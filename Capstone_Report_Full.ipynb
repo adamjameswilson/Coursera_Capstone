{
    "nbformat_minor": 1, 
    "cells": [
        {
            "source": "# Kansas City vs Austin: Which city is the best for video-game stores?", 
            "cell_type": "markdown", 
            "metadata": {
                "collapsed": true
            }
        }, 
        {
            "source": "### Introduction / Business Problem", 
            "cell_type": "markdown", 
            "metadata": {}
        }, 
        {
            "source": "I am a video-game enthusiast and I have been offered jobs in two US cities: Kansas City, Missouri and Austin, Texas. Both jobs sound equally desirable, so I want to choose the city that is the friendliest towards my hobby.", 
            "cell_type": "markdown", 
            "metadata": {}
        }, 
        {
            "source": "This project is going to use Foursquare to compare the video-game-centric venues of two different cities. This project is targeted towards an audience interested in video-games, however, the coding used can easily be tweaked to compare whatever cities and whatever venues are desired.", 
            "cell_type": "markdown", 
            "metadata": {}
        }, 
        {
            "source": "### Data", 
            "cell_type": "markdown", 
            "metadata": {}
        }, 
        {
            "source": "Our problem is not a particularly complex one; it is sufficient for us to only use Foursquare location data. We also install and import several packages in our code, which include a geolocation package for finding out the latitude and longitude of a location, and a package for creating maps.", 
            "cell_type": "markdown", 
            "metadata": {}
        }, 
        {
            "source": "### Methodology", 
            "cell_type": "markdown", 
            "metadata": {}
        }, 
        {
            "source": "We will focus on one city at a time. First we find out the geolocation of Kansas City, Missouri. We then use the Foursquare API to retrieve a list of venues that are within 10,000 meters of Kansas City's geolocation, and with a limit of 50 venues. We then take the relevant information from the data we retrieve and transform it into a dataframe.", 
            "cell_type": "markdown", 
            "metadata": {}
        }, 
        {
            "source": "Next we have to define a function that extracts the category of the venue, filters the category for each dataframe row (in other words, each venue), and tidies up the column names by changing them to the last term. For example, the column labelled *location.address* becomes *address*. Doing all of this gives us a dataframe that is easier to interpret.", 
            "cell_type": "markdown", 
            "metadata": {}
        }, 
        {
            "source": "We next create a map of Kansas City, again adjusting for venues that are 10,000 meters within the city's center that are involved with video-games, with a limit of 50 venues. To make the map more interpretable, we add a red radius that shows the search area, and blue markers that show each venue.", 
            "cell_type": "markdown", 
            "metadata": {}
        }, 
        {
            "source": "We filter out the *IDs* of the venues and create a list out of them, because these are used to retrieve the ratings of our venues. Note that it is not enough to just count the number of venues and decide to locate to the city that has the highest number. What we do at this point is take the ratings of our venues and calculate the average rating.", 
            "cell_type": "markdown", 
            "metadata": {}
        }, 
        {
            "source": "We repeat all of the above for Austin, Texas. Now we have two numbers: average rating for Kansas City and average rating for Austin. We then perform a simple if-else statement to decide on which city we want to locate to. While it may seem trivial to use such a statement to just compare two numbers, it is possible that the final result will change dependent on future venues and ratings, so programming our project this way allows for much more flexibility.", 
            "cell_type": "markdown", 
            "metadata": {}
        }, 
        {
            "source": "Now that we have a winning city, we shall go back to the dataframe of venues for this city and tweak it further. We create a list of the venue ratings, and add it to our dataframe. We sort the dataframe and show the highest-rated venues first. We filter the columns to only show *name*, *address*, *category*, *zip code*, and *rating*. We drop the venues that do not have a zip code. Next we will tidy the dataframe up to make sure we are only considering venues of interest, and not outliers that have somehow become associated with the term 'video games'.", 
            "cell_type": "markdown", 
            "metadata": {}
        }, 
        {
            "source": "Finally we create a list of zip codes of interest, so that we can then attempt to live in the zip codes that have the highest-rated venues.", 
            "cell_type": "markdown", 
            "metadata": {}
        }, 
        {
            "source": "### Results", 
            "cell_type": "markdown", 
            "metadata": {}
        }, 
        {
            "source": "First, please note that these results are subject to change. Future venues and future ratings can alter the winning city, the venues of interest, and the zip codes of interest. I will discuss the results based on when I observed the data.", 
            "cell_type": "markdown", 
            "metadata": {}
        }, 
        {
            "source": "Upon compiling the code and observing the Foursquare data, the winning city for me was **Austin**. When looking for a place to live, I created a handly list of zip codes of interest, ordered by venue rating. I can easily refer to this list when searching for accommodation within the city. I also have a short and simple dataframe of venues, which include their name and address. These resources will make it easy to know where to live and know where to find my venues of interest.", 
            "cell_type": "markdown", 
            "metadata": {}
        }, 
        {
            "source": "### Discussion", 
            "cell_type": "markdown", 
            "metadata": {}
        }, 
        {
            "source": "At the time of working on this project, Kansas City had only 24 relevant venues that were 10,000 meters within the city's geolocation. Austin had a minimum of 50 (this was the limit we set). Of these 50, most of them did not have ratings. This could easily mean that Kansas City is actually a 'better' city for video-game enthusiasts, but it is impossible for us to know, because so many venues have not been rated. It is important to rate the venues we visit so that future data is as accurate as possible.", 
            "cell_type": "markdown", 
            "metadata": {}
        }, 
        {
            "source": "As mentioned in the Results section, our results are subject to change. If we want to do a similar analysis, it is very important to do the analysis ourselves as close to 'decision time' as possible, instead of relying on old reports. This is because venues and ratings can be very different in a short amount of time.", 
            "cell_type": "markdown", 
            "metadata": {}
        }, 
        {
            "source": "### Conclusion", 
            "cell_type": "markdown", 
            "metadata": {}
        }, 
        {
            "source": "We set out to compare two cities on a venue of our choice, and we achieved this relatively easily, with our final result being a list of zip codes we can use for reference when choosing a place to live. Our code is quite malleable, so a simple change of a few variables allows us to compare different cities and different venues, resulting in similar looking maps, dataframes, and resulting zip codes of interest. We achieved what we wanted to for our targeted audience, but I am also pleased with the fact that our code can be easily and minimally altered for other audiences with a similar problem.", 
            "cell_type": "markdown", 
            "metadata": {}
        }
    ], 
    "metadata": {
        "kernelspec": {
            "display_name": "Python 3.5", 
            "name": "python3", 
            "language": "python"
        }, 
        "language_info": {
            "mimetype": "text/x-python", 
            "nbconvert_exporter": "python", 
            "version": "3.5.5", 
            "name": "python", 
            "file_extension": ".py", 
            "pygments_lexer": "ipython3", 
            "codemirror_mode": {
                "version": 3, 
                "name": "ipython"
            }
        }
    }, 
    "nbformat": 4
}