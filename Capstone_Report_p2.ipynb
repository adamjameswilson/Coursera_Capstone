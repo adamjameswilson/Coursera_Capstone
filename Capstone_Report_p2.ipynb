{
    "nbformat_minor": 1, 
    "cells": [
        {
            "source": "# Kansas City vs Austin: Which city is the best for video-game stores?", 
            "cell_type": "markdown", 
            "metadata": {
                "collapsed": true
            }
        }, 
        {
            "source": "### Introduction / Business Problem", 
            "cell_type": "markdown", 
            "metadata": {}
        }, 
        {
            "source": "I am a video-game enthusiast and I have been offered jobs in two US cities: Kansas City, Missouri and Austin, Texas. Both jobs sound equally desirable, so I want to choose the city that is the friendliest for my hobby.", 
            "cell_type": "markdown", 
            "metadata": {}
        }, 
        {
            "source": "This project is going to use Foursquare to compare the video-game-centric venues of two different cities. This project is targeted towards an audience interested in video-games, however, the coding used can easily be tweaked to compare cities for whatever venue is desired.", 
            "cell_type": "markdown", 
            "metadata": {}
        }, 
        {
            "source": "### Data", 
            "cell_type": "markdown", 
            "metadata": {}
        }, 
        {
            "source": "Our problem is not a particularly complex one; it is sufficient for us to only use Foursquare location data. We will focus on one city at a time. We will first create a map of Kansas City and search for venues that are 10,000 meters within the city's center that are involved with video-games, with a limit of 50 venues.", 
            "cell_type": "markdown", 
            "metadata": {}
        }, 
        {
            "source": "It is not enough to just count the number of venues and decide to locate to the city that has the highest number. What we do at this point is take the ratings of our venues and calculate the average rating.", 
            "cell_type": "markdown", 
            "metadata": {}
        }, 
        {
            "source": "We repeat all of the above for Austin, which leaves us with two numbers: average rating for Kansas City and average rating for Austin. We then perform a simple if-else statement to decide on which city we want to locate to. While it may seem trivial to use such a statement to just compare two numbers, it is possible that the final result will change dependent on future venues and ratings, so programming our project this way allows for much more flexibility.", 
            "cell_type": "markdown", 
            "metadata": {}
        }, 
        {
            "source": "After we have chosen our city, we will tidy our data up to make sure we are only considering venues of interest, and not outliers that have somehow become associated with the term 'video games'. Finally we will order our data to show the highest-rated venues first, and then create a list of zipcodes of interest, so that we can then attempt to live in the zipcodes that have the highest-rated venues.", 
            "cell_type": "markdown", 
            "metadata": {}
        }
    ], 
    "metadata": {
        "kernelspec": {
            "display_name": "Python 3.5", 
            "name": "python3", 
            "language": "python"
        }, 
        "language_info": {
            "mimetype": "text/x-python", 
            "nbconvert_exporter": "python", 
            "version": "3.5.5", 
            "name": "python", 
            "pygments_lexer": "ipython3", 
            "file_extension": ".py", 
            "codemirror_mode": {
                "version": 3, 
                "name": "ipython"
            }
        }
    }, 
    "nbformat": 4
}