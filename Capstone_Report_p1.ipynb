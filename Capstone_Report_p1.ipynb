{
    "nbformat_minor": 1, 
    "cells": [
        {
            "source": "# Kansas City vs Austin: Which city is the best for video-game stores?", 
            "cell_type": "markdown", 
            "metadata": {
                "collapsed": true
            }
        }, 
        {
            "source": "### Introduction / Business Problem", 
            "cell_type": "markdown", 
            "metadata": {}
        }, 
        {
            "source": "I am a video-game enthusiast and I have been offered jobs in two US cities: Kansas City, Missouri and Austin, Texas. Both jobs sound equally desirable, so I want to choose the city that is the friendliest for my hobby.", 
            "cell_type": "markdown", 
            "metadata": {}
        }, 
        {
            "source": "This project is going to use Foursquare to compare the video-game-centric venues of two different cities. This project is targeted towards an audience interested in video-games, however, the coding used can easily be tweaked to compare cities for whatever venue is desired.", 
            "cell_type": "markdown", 
            "metadata": {}
        }
    ], 
    "metadata": {
        "kernelspec": {
            "display_name": "Python 3.5", 
            "name": "python3", 
            "language": "python"
        }, 
        "language_info": {
            "mimetype": "text/x-python", 
            "nbconvert_exporter": "python", 
            "version": "3.5.5", 
            "name": "python", 
            "pygments_lexer": "ipython3", 
            "file_extension": ".py", 
            "codemirror_mode": {
                "version": 3, 
                "name": "ipython"
            }
        }
    }, 
    "nbformat": 4
}